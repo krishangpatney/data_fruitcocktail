{
 "cells": [
  {
   "cell_type": "markdown",
   "metadata": {},
   "source": [
    "Pineapple - Robot Shop Pattern 1 "
   ]
  },
  {
   "cell_type": "code",
   "execution_count": 3,
   "metadata": {},
   "outputs": [],
   "source": [
    "# Required Imports \n",
    "import pandas as pd \n",
    "import numpy as np \n",
    "import os \n",
    "import matplotlib.pyplot as plt\n",
    "import json\n",
    "import datetime, time\n",
    "from matplotlib.dates import date2num\n",
    "# import seaborn as sns"
   ]
  },
  {
   "cell_type": "code",
   "execution_count": 4,
   "metadata": {},
   "outputs": [],
   "source": [
    "# https://stackoverflow.com/a/1879011/14626757\n",
    "# Returns a walked path under collected_data\n",
    "def f(starting_path):\n",
    "  alld = {'': {}}\n",
    "\n",
    "  for dirpath, dirnames, filenames in os.walk(starting_path):\n",
    "    d = alld\n",
    "    dirpath = dirpath[len(starting_path):]\n",
    "    for subd in dirpath.split(os.sep):\n",
    "      based = d\n",
    "      d = d[subd]\n",
    "    if dirnames:\n",
    "      for dn in dirnames:\n",
    "        d[dn] = {}\n",
    "    else:\n",
    "      based[subd] = filenames\n",
    "  return alld['']"
   ]
  },
  {
   "cell_type": "code",
   "execution_count": 13,
   "metadata": {},
   "outputs": [],
   "source": [
    "# standard code to convert data to a timestamp, metric list \n",
    "def convert_enddate_to_seconds(ts):\n",
    "    \"\"\"Takes ISO 8601 format(string) and converts into epoch time.\"\"\"\n",
    "    dt = datetime.datetime.strptime(ts[:-7],'%Y-%m-%dT%H:%M:%S')+\\\n",
    "                datetime.timedelta(hours=int(ts[-5:-3]),\n",
    "                minutes=int(ts[-2:]))*int(ts[-6:-5]+'1')\n",
    "    seconds = time.mktime(dt.timetuple()) + dt.microsecond/1000000.0\n",
    "    return seconds\n",
    "\n",
    "def convert_to_json(filename):\n",
    "    # Opening JSON file\n",
    "    f = open(filename)\n",
    "    \n",
    "    # returns JSON object as\n",
    "    # a dictionary\n",
    "    data = json.load(f)\n",
    "\n",
    "    # Closing file\n",
    "    f.close()\n",
    "    return data\n",
    "\n",
    "# returns 2 lists for average values, and timestamp\n",
    "def get_list(timeseries):\n",
    "    y = [val['average'] for val in timeseries]\n",
    "    x = [pd.to_datetime(convert_enddate_to_seconds(val['timeStamp']),unit='s') for val in timeseries]\n",
    "    return x,y\n",
    "\n",
    "# \n",
    "def return_time_metric(filename):\n",
    "    data = convert_to_json(filename)\n",
    "    timespan = data['timespan']\n",
    "    time_interval = data['interval']\n",
    "    value = data['value'][0]\n",
    "    name_of_graph = value['name']['value']\n",
    "    timeseries = value['timeseries'][0]['data']\n",
    "    x, y = get_list(timeseries)\n",
    "    return x,y\n",
    "\n",
    "def create_graph(x,y,):\n",
    "    # def clean_plot(data, metric):\n",
    "    fig = plt.figure()\n",
    "    ax = fig.add_subplot(1, 1, 1)\n",
    "    \n",
    "    ax.plot(x, y)   # 2021-12-31T18:36:00+00:00 2021-12-31T19:05:00+00:00\n"
   ]
  },
  {
   "cell_type": "code",
   "execution_count": 25,
   "metadata": {},
   "outputs": [
    {
     "name": "stdout",
     "output_type": "stream",
     "text": [
      "    Timestamp  User Count Type                                Name  \\\n",
      "0  1644683354           0  NaN                          Aggregated   \n",
      "1  1644683355          10  GET                                   /   \n",
      "2  1644683355          10  GET     /api/cart/add/anonymous-3/UHJ/1   \n",
      "3  1644683355          10  GET  /api/cart/add/anonymous-3/Watson/1   \n",
      "4  1644683355          10  GET     /api/cart/add/anonymous-4/EMM/1   \n",
      "\n",
      "   Requests/s  Failures/s  50%  66%  75%  80%  ...  99.9%  99.99%  100%  \\\n",
      "0         0.0         0.0  NaN  NaN  NaN  NaN  ...    NaN     NaN   NaN   \n",
      "1         0.0         0.0  0.0  0.0  0.0  0.0  ...    0.0     0.0   0.0   \n",
      "2         0.0         0.0  0.0  0.0  0.0  0.0  ...    0.0     0.0   0.0   \n",
      "3         0.0         0.0  0.0  0.0  0.0  0.0  ...    0.0     0.0   0.0   \n",
      "4         0.0         0.0  0.0  0.0  0.0  0.0  ...    0.0     0.0   0.0   \n",
      "\n",
      "   Total Request Count  Total Failure Count  Total Median Response Time  \\\n",
      "0                    0                    0                    0.000000   \n",
      "1                    3                    0                  189.780548   \n",
      "2                    1                    0                   98.451294   \n",
      "3                    1                    0                   80.359999   \n",
      "4                    1                    0                  111.296385   \n",
      "\n",
      "   Total Average Response Time  Total Min Response Time  \\\n",
      "0                     0.000000                 0.000000   \n",
      "1                   188.166173               186.755867   \n",
      "2                    98.451294                98.451294   \n",
      "3                    80.359999                80.359999   \n",
      "4                   111.296385               111.296385   \n",
      "\n",
      "   Total Max Response Time  Total Average Content Size  \n",
      "0                 0.000000                         0.0  \n",
      "1               189.780548                      2586.0  \n",
      "2                98.451294                       138.0  \n",
      "3                80.359999                       209.0  \n",
      "4               111.296385                       137.0  \n",
      "\n",
      "[5 rows x 24 columns]\n"
     ]
    },
    {
     "data": {
      "image/png": "[encoded data removed]",
      "text/plain": [
       "<Figure size 432x288 with 1 Axes>"
      ]
     },
     "metadata": {
      "needs_background": "light"
     },
     "output_type": "display_data"
    },
    {
     "name": "stdout",
     "output_type": "stream",
     "text": [
      "{'Stanrdard_A2_V2': {'a': ['loaded_failures.csv', 'loaded_exceptions.csv', 'loaded_stats_history.csv', 'loaded_stats.csv']}}\n"
     ]
    }
   ],
   "source": [
    "# This run only lasted 5 minutes\n",
    "filepath = \"./load5\"\n",
    "api      = os.path.join(filepath, \"api\")\n",
    "\n",
    "api_listing     = f(api)\n",
    "big_api = {}\n",
    "# Get all values\n",
    "for size, iteration in api_listing.items():\n",
    "\n",
    "    df_list = list()\n",
    "    for iteration, files in iteration.items(): \n",
    "        temp_path = os.path.join(api, size, iteration)\n",
    "        file_name = \"loaded_stats_history.csv\"\n",
    "        df = pd.read_csv(os.path.join(temp_path, file_name))\n",
    "        print(df.head())\n",
    "        df['Timestamp']= pd.to_datetime(df['Timestamp'] ,unit='s')\n",
    "        df_list.append(df)\n",
    "        \n",
    "    big_api[size] =  df_list\n",
    "\n",
    "# average metrics\n",
    "for key, values in big_api.items():\n",
    "    convert_to_df = {}\n",
    "    for i in range(0, len(values)):\n",
    "        \n",
    "        timestamp =  values[i][\"Timestamp\"]\n",
    "        plt.plot(timestamp, values[i][\"Total Average Response Time\"]) \n",
    "        plt.title(key)\n",
    "        plt.xticks(rotation=45)\n",
    "    plt.show()\n",
    "\n",
    "print(api_listing)"
   ]
  },
  {
   "cell_type": "code",
   "execution_count": 24,
   "metadata": {},
   "outputs": [
    {
     "data": {
      "image/png": "[encoded data removed]",
      "text/plain": [
       "<Figure size 432x288 with 1 Axes>"
      ]
     },
     "metadata": {
      "needs_background": "light"
     },
     "output_type": "display_data"
    },
    {
     "name": "stdout",
     "output_type": "stream",
     "text": [
      "{'Stanrdard_A2_V2': {'a': ['load_exceptions.csv', 'load_failures.csv', 'load_stats_history.csv', 'load_stats.csv']}}\n"
     ]
    }
   ],
   "source": [
    "# This is from the original runs which lasted 30 minutes\n",
    "filepath = \"./load30\"\n",
    "api      = os.path.join(filepath, \"api\")\n",
    "\n",
    "api_listing     = f(api)\n",
    "big_api = {}\n",
    "# Get all values\n",
    "for size, iteration in api_listing.items():\n",
    "\n",
    "    df_list = list()\n",
    "    for iteration, files in iteration.items(): \n",
    "        temp_path = os.path.join(api, size, iteration)\n",
    "        file_name = \"load_stats_history.csv\"\n",
    "        df = pd.read_csv(os.path.join(temp_path, file_name))\n",
    "        df['Timestamp']= pd.to_datetime(df['Timestamp'] ,unit='s')\n",
    "        df_list.append(df)\n",
    "        \n",
    "    big_api[size] =  df_list\n",
    "\n",
    "# average metrics\n",
    "for key, values in big_api.items():\n",
    "    convert_to_df = {}\n",
    "    for i in range(0, len(values)):\n",
    "        \n",
    "        timestamp =  values[i][\"Timestamp\"]\n",
    "        plt.plot(timestamp, values[i][\"Total Average Response Time\"]) \n",
    "        plt.title(key)\n",
    "        plt.xticks(rotation=45)\n",
    "    plt.show()\n",
    "\n",
    "print(api_listing)"
   ]
  },
  {
   "cell_type": "code",
   "execution_count": null,
   "metadata": {},
   "outputs": [],
   "source": []
  }
 ],
 "metadata": {
  "interpreter": {
   "hash": "916dbcbb3f70747c44a77c7bcd40155683ae19c65e1c03b4aa3499c5328201f1"
  },
  "kernelspec": {
   "display_name": "Python 3.8.10 64-bit",
   "language": "python",
   "name": "python3"
  },
  "language_info": {
   "codemirror_mode": {
    "name": "ipython",
    "version": 3
   },
   "file_extension": ".py",
   "mimetype": "text/x-python",
   "name": "python",
   "nbconvert_exporter": "python",
   "pygments_lexer": "ipython3",
   "version": "3.8.10"
  },
  "orig_nbformat": 4
 },
 "nbformat": 4,
 "nbformat_minor": 2
}
